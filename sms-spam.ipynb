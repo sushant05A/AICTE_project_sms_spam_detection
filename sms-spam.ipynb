{
 "cells": [
  {
   "cell_type": "code",
   "execution_count": 1,
   "id": "30d6db93",
   "metadata": {
    "id": "30d6db93"
   },
   "outputs": [],
   "source": [
    "#importing the necessary libraries\n",
    "import numpy as np\n",
    "import pandas as pd\n",
    "from sklearn.preprocessing import LabelEncoder\n",
    "import matplotlib.pyplot as plt\n",
    "import nltk\n",
    "import seaborn as sns\n",
    "from nltk.corpus import stopwords\n",
    "import string\n",
    "from nltk.stem import PorterStemmer\n",
    "from wordcloud import WordCloud\n",
    "from collections import Counter\n",
    "from sklearn.feature_extraction.text import CountVectorizer, TfidfVectorizer\n",
    "from sklearn.model_selection import train_test_split\n",
    "from sklearn.naive_bayes import GaussianNB, MultinomialNB, BernoulliNB\n",
    "from sklearn.metrics import accuracy_score, precision_score, confusion_matrix"
   ]
  },
  {
   "cell_type": "code",
   "execution_count": null,
   "id": "1e527796",
   "metadata": {
    "colab": {
     "base_uri": "https://localhost:8080/",
     "height": 423
    },
    "id": "1e527796",
    "outputId": "43bc2e29-5869-41f1-b9b9-fd73891bda48"
   },
   "outputs": [],
   "source": [
    "x = pd.read_csv(\"sms-spam.csv\")\n",
    "\n",
    "x"
   ]
  },
  {
   "cell_type": "code",
   "execution_count": null,
   "id": "78693fdd",
   "metadata": {
    "colab": {
     "base_uri": "https://localhost:8080/"
    },
    "id": "78693fdd",
    "outputId": "3ab31c99-767b-464a-eb10-c25ae42d9eec"
   },
   "outputs": [],
   "source": [
    "x.shape"
   ]
  },
  {
   "cell_type": "markdown",
   "id": "6719610c",
   "metadata": {
    "id": "6719610c"
   },
   "source": [
    "## Data Cleaning"
   ]
  },
  {
   "cell_type": "code",
   "execution_count": null,
   "id": "226dc4bb",
   "metadata": {
    "colab": {
     "base_uri": "https://localhost:8080/"
    },
    "id": "226dc4bb",
    "outputId": "179f2bef-bb32-4bb0-8d7c-e4e63402679e"
   },
   "outputs": [],
   "source": [
    "#printing the concise summary of the dataset\n",
    "x.info()"
   ]
  },
  {
   "cell_type": "code",
   "execution_count": null,
   "id": "1205abf7",
   "metadata": {
    "colab": {
     "base_uri": "https://localhost:8080/",
     "height": 423
    },
    "id": "1205abf7",
    "outputId": "e1e68c4e-9cad-4d88-fe66-1bf8225706b9"
   },
   "outputs": [],
   "source": [
    "#column 2, 3, 4 have majority missing values, so it is better to drop them.\n",
    "x.drop(columns=['Unnamed: 2', 'Unnamed: 3', 'Unnamed: 4'], inplace = True)\n",
    "\n",
    "#displaying the edited dataframe\n",
    "x"
   ]
  },
  {
   "cell_type": "code",
   "execution_count": null,
   "id": "7a5f0034",
   "metadata": {
    "colab": {
     "base_uri": "https://localhost:8080/",
     "height": 423
    },
    "id": "7a5f0034",
    "outputId": "46dbf186-f35e-4e80-f636-245958b733db"
   },
   "outputs": [],
   "source": [
    "#renaming the column names to a better and meaningful column name\n",
    "x.rename(columns = {'v1':'result', 'v2':'input'}, inplace=True)\n",
    "\n",
    "#displaying the edited dataframe\n",
    "x"
   ]
  },
  {
   "cell_type": "code",
   "execution_count": null,
   "id": "6a001e3b",
   "metadata": {
    "colab": {
     "base_uri": "https://localhost:8080/",
     "height": 206
    },
    "id": "6a001e3b",
    "outputId": "e0e9b7d4-ffd8-4001-b490-c2a3a85c7562"
   },
   "outputs": [],
   "source": [
    "encoder = LabelEncoder()\n",
    "x['result'] = encoder.fit_transform(x['result'])\n",
    "\n",
    "#displaying the edited dataframe\n",
    "x.head()"
   ]
  },
  {
   "cell_type": "code",
   "execution_count": null,
   "id": "fa8ba1ab",
   "metadata": {
    "colab": {
     "base_uri": "https://localhost:8080/"
    },
    "id": "fa8ba1ab",
    "outputId": "868c5eb2-cfb7-48ab-c7d3-58117b0d5c05"
   },
   "outputs": [],
   "source": [
    "#check if there is any NULL value\n",
    "x.isnull().sum()"
   ]
  },
  {
   "cell_type": "code",
   "execution_count": null,
   "id": "7aad25e1",
   "metadata": {
    "colab": {
     "base_uri": "https://localhost:8080/"
    },
    "id": "7aad25e1",
    "outputId": "9f648247-0a9e-43dc-82d9-50ab76814b40"
   },
   "outputs": [],
   "source": [
    "#check if there is any DUPLICATE values\n",
    "x.duplicated().sum()"
   ]
  },
  {
   "cell_type": "code",
   "execution_count": null,
   "id": "c1a5defd",
   "metadata": {
    "colab": {
     "base_uri": "https://localhost:8080/",
     "height": 423
    },
    "id": "c1a5defd",
    "outputId": "65d3ba84-d195-4ef9-b5d5-f738d51d41b1"
   },
   "outputs": [],
   "source": [
    "#the dataset has DUPLICATE values, so we will have to REMOVE them\n",
    "x = x.drop_duplicates(keep='first')\n",
    "\n",
    "#displaying the edited dataframe\n",
    "x"
   ]
  },
  {
   "cell_type": "markdown",
   "id": "6d9d382c",
   "metadata": {
    "id": "6d9d382c"
   },
   "source": [
    "## EDA - Exploratory Data Analysis"
   ]
  },
  {
   "cell_type": "code",
   "execution_count": null,
   "id": "f1758d20",
   "metadata": {
    "colab": {
     "base_uri": "https://localhost:8080/"
    },
    "id": "f1758d20",
    "outputId": "274a9092-b9bc-4a6f-c7f5-cec747a5c889"
   },
   "outputs": [],
   "source": [
    "#checking the number of SPAM vs not SPAM messages\n",
    "x['result'].value_counts()"
   ]
  },
  {
   "cell_type": "code",
   "execution_count": 17,
   "id": "8f0e68d4",
   "metadata": {
    "id": "8f0e68d4"
   },
   "outputs": [],
   "source": [
    "#out of 5169 datavalues, 653 are SPAM"
   ]
  },
  {
   "cell_type": "code",
   "execution_count": null,
   "id": "06cd5547",
   "metadata": {
    "colab": {
     "base_uri": "https://localhost:8080/"
    },
    "id": "06cd5547",
    "outputId": "aab9df1b-d0e1-44ac-bc7a-2bab464dd905"
   },
   "outputs": [],
   "source": [
    "653*100.0/5169"
   ]
  },
  {
   "cell_type": "code",
   "execution_count": 19,
   "id": "fde6542b",
   "metadata": {
    "id": "fde6542b"
   },
   "outputs": [],
   "source": [
    "#12.63% is SPAM and 87.37% is not SPAM"
   ]
  },
  {
   "cell_type": "code",
   "execution_count": null,
   "id": "ea0827b7",
   "metadata": {
    "colab": {
     "base_uri": "https://localhost:8080/",
     "height": 406
    },
    "id": "ea0827b7",
    "outputId": "9e82e8c7-89e8-4326-8e91-b17ae9e61137"
   },
   "outputs": [],
   "source": [
    "#for better representation, we can use PIE CHART to represent it.\n",
    "#PIE CHARTS can be created using matplotlib library\n",
    "\n",
    "plt.pie(x['result'].value_counts(),  labels = ['NOT SPAM', 'SPAM'], autopct = '%0.2f', radius = 0.8)\n",
    "plt.show()"
   ]
  },
  {
   "cell_type": "markdown",
   "id": "d190f9f8",
   "metadata": {},
   "source": []
  },
  {
   "cell_type": "code",
   "execution_count": null,
   "id": "ffd4ce2b",
   "metadata": {
    "colab": {
     "base_uri": "https://localhost:8080/"
    },
    "id": "ffd4ce2b",
    "outputId": "d4453103-26a3-4f32-bd9c-2b001fc36f2d"
   },
   "outputs": [],
   "source": [
    "#downloading the dependencies \n",
    "#punkt package includes pre-trained models for tokenizing text in many languages\n",
    "\n",
    "nltk.download('punkt')"
   ]
  },
  {
   "cell_type": "code",
   "execution_count": null,
   "id": "e0b0ae5a",
   "metadata": {
    "colab": {
     "base_uri": "https://localhost:8080/"
    },
    "id": "e0b0ae5a",
    "outputId": "96c083c2-d244-4a39-df41-e0b92819682f"
   },
   "outputs": [],
   "source": [
    "#creating a new column with count of characters\n",
    "x['countCharacters'] = x['input'].apply(len)\n",
    "\n",
    "#creating a new column with count of words\n",
    "x['countWords'] = x['input'].apply(lambda i:len(nltk.word_tokenize(i)))\n",
    "#'word_tokenize' function takes a string of text as input and returns a list of words\n",
    "\n",
    "#creating a new column with count of sentences\n",
    "x['countSentences'] = x['input'].apply(lambda i:len(nltk.sent_tokenize(i)))\n",
    "#'sent_tokenize' function takes a string of text as input and returns a list of sentences"
   ]
  },
  {
   "cell_type": "code",
   "execution_count": null,
   "id": "b2deabf7",
   "metadata": {
    "colab": {
     "base_uri": "https://localhost:8080/",
     "height": 206
    },
    "id": "b2deabf7",
    "outputId": "604524c7-35e5-470f-d30f-0ac90811361a",
    "scrolled": true
   },
   "outputs": [],
   "source": [
    "#displaying the edited dataframe with the 3 new columns added\n",
    "x.head()"
   ]
  },
  {
   "cell_type": "code",
   "execution_count": null,
   "id": "e9a255a1",
   "metadata": {
    "colab": {
     "base_uri": "https://localhost:8080/",
     "height": 300
    },
    "id": "e9a255a1",
    "outputId": "4485798e-cde1-4583-a3c5-99dc370fd1d6"
   },
   "outputs": [],
   "source": [
    "#extracting the 5 number summary of the 3 new column values\n",
    "x[['countCharacters', 'countWords', 'countSentences']].describe()"
   ]
  },
  {
   "cell_type": "code",
   "execution_count": null,
   "id": "8a1db23a",
   "metadata": {
    "colab": {
     "base_uri": "https://localhost:8080/",
     "height": 300
    },
    "id": "8a1db23a",
    "outputId": "bf0e2cd6-c3da-46e4-c71b-1cd876ce81af"
   },
   "outputs": [],
   "source": [
    "#for not SPAM\n",
    "x[x['result'] == 0][['countCharacters', 'countWords', 'countSentences']].describe()"
   ]
  },
  {
   "cell_type": "code",
   "execution_count": null,
   "id": "415a82ca",
   "metadata": {
    "colab": {
     "base_uri": "https://localhost:8080/",
     "height": 300
    },
    "id": "415a82ca",
    "outputId": "89c51256-c060-467a-c8ee-4d2cd2829d83",
    "scrolled": true
   },
   "outputs": [],
   "source": [
    "#for SPAM\n",
    "x[x['result'] == 1][['countCharacters', 'countWords', 'countSentences']].describe()"
   ]
  },
  {
   "cell_type": "code",
   "execution_count": null,
   "id": "cbff4800",
   "metadata": {
    "colab": {
     "base_uri": "https://localhost:8080/",
     "height": 437
    },
    "id": "cbff4800",
    "outputId": "684e5cbe-0452-4b9a-e677-e64535e204a6"
   },
   "outputs": [],
   "source": [
    "#for better visualization, we will plot a histogram using 'seaborn'\n",
    "plt.figure(figsize = (15, 5))\n",
    "sns.histplot(x[x['result'] == 0]['countCharacters'], color = \"yellow\")\n",
    "sns.histplot(x[x['result'] == 1]['countCharacters'], color = \"black\")\n",
    "\n",
    "#black -> SPAM, yellow -> not SPAM"
   ]
  },
  {
   "cell_type": "code",
   "execution_count": null,
   "id": "d4ac0dad",
   "metadata": {
    "colab": {
     "base_uri": "https://localhost:8080/",
     "height": 437
    },
    "id": "d4ac0dad",
    "outputId": "02ca722c-b74c-4a2a-8fe9-4c9d3dd7d131"
   },
   "outputs": [],
   "source": [
    "plt.figure(figsize = (15, 5))\n",
    "sns.histplot(x[x['result'] == 0]['countWords'], color = \"yellow\")\n",
    "sns.histplot(x[x['result'] == 1]['countWords'], color = \"black\")\n",
    "\n",
    "#black -> SPAM, yellow -> not SPAM"
   ]
  },
  {
   "cell_type": "code",
   "execution_count": null,
   "id": "2b4bb03f",
   "metadata": {
    "colab": {
     "base_uri": "https://localhost:8080/",
     "height": 775
    },
    "id": "2b4bb03f",
    "outputId": "16b52004-4892-493a-af41-2d80d5c2ff0c"
   },
   "outputs": [],
   "source": [
    "#finding relationship between the columns\n",
    "sns.pairplot(x, hue='result')"
   ]
  },
  {
   "cell_type": "markdown",
   "id": "b916c85d",
   "metadata": {
    "id": "b916c85d"
   },
   "source": [
    "## Data Preprocessing"
   ]
  },
  {
   "cell_type": "code",
   "execution_count": null,
   "id": "727bd8e8",
   "metadata": {
    "colab": {
     "base_uri": "https://localhost:8080/"
    },
    "id": "727bd8e8",
    "outputId": "7b9c142f-b729-44b6-9e44-40feaa21031e"
   },
   "outputs": [],
   "source": [
    "#downloading the package which contains the stopwords\n",
    "nltk.download('stopwords')"
   ]
  },
  {
   "cell_type": "code",
   "execution_count": 41,
   "id": "fb37349b",
   "metadata": {
    "id": "fb37349b"
   },
   "outputs": [],
   "source": [
    "def transform_text (text):\n",
    "    \n",
    "    #converting to lower case\n",
    "    text = text.lower()\n",
    "    \n",
    "    #tokenization\n",
    "    text = nltk.word_tokenize(text)\n",
    "    \n",
    "    #removing special characters\n",
    "    removedSC = list()\n",
    "    for i in text:\n",
    "        if i.isalnum():\n",
    "            removedSC.append(i)\n",
    "            \n",
    "    #updating the text after removed special characters\n",
    "    text = removedSC[:]\n",
    "    \n",
    "    #removing stop words and punctuation characters\n",
    "    removedSWPC = list()\n",
    "    for i in text:\n",
    "        \n",
    "        if i not in stopwords.words('english') and i not in string.punctuation:\n",
    "            removedSWPC.append(i)\n",
    "            \n",
    "    #updating the text after removed stop words and punctuation characters\n",
    "    text = removedSWPC[:]\n",
    "    \n",
    "   \n",
    "    ps = PorterStemmer()\n",
    "    stemmed = list()\n",
    "    for i in text:\n",
    "        stemmed.append(ps.stem(i))\n",
    "    text = stemmed[:]\n",
    "    return \" \".join(text)"
   ]
  },
  {
   "cell_type": "code",
   "execution_count": null,
   "id": "2096abcc",
   "metadata": {
    "colab": {
     "base_uri": "https://localhost:8080/",
     "height": 310
    },
    "id": "2096abcc",
    "outputId": "f2545dda-3cec-4297-8411-738065335a30",
    "scrolled": true
   },
   "outputs": [],
   "source": [
    "#will create a new column to store the transformed text -> 'processed'\n",
    "x['processed'] = x['input'].apply(transform_text)\n",
    "\n",
    "#displaying the edited dataframe with a new column 'processed'\n",
    "x.head()"
   ]
  },
  {
   "cell_type": "code",
   "execution_count": 44,
   "id": "52148949",
   "metadata": {
    "id": "52148949"
   },
   "outputs": [],
   "source": [
    "#will be creating word cloud for data visualization to display the most frequently occurring words in the processed dataset.\n",
    "#using 'WordCloud' class\n",
    "\n",
    "wc = WordCloud(width=500, height=500, min_font_size=10, background_color='white')"
   ]
  },
  {
   "cell_type": "code",
   "execution_count": null,
   "id": "475f1006",
   "metadata": {
    "colab": {
     "base_uri": "https://localhost:8080/",
     "height": 544
    },
    "id": "475f1006",
    "outputId": "4549babd-62f6-46e0-f39d-55bd50eb6f32"
   },
   "outputs": [],
   "source": [
    "#creating a wordcloud for the SPAM messages\n",
    "spamWC = wc.generate(x[x['result'] == 1]['processed'].str.cat(sep=\" \"))\n",
    "\n",
    "#creating figure and displaying\n",
    "plt.figure(figsize=(12, 6))\n",
    "plt.imshow(spamWC)"
   ]
  },
  {
   "cell_type": "code",
   "execution_count": null,
   "id": "KKjzvZxw9fA7",
   "metadata": {
    "colab": {
     "base_uri": "https://localhost:8080/",
     "height": 544
    },
    "id": "KKjzvZxw9fA7",
    "outputId": "a2b023fb-f675-4209-c84b-22895c8d2088"
   },
   "outputs": [],
   "source": [
    "#creating a wordcloud for the not SPAM messages\n",
    "spamWC = wc.generate(x[x['result'] == 0]['processed'].str.cat(sep=\" \"))\n",
    "\n",
    "#creating figure and displaying\n",
    "plt.figure(figsize=(12, 6))\n",
    "plt.imshow(spamWC)"
   ]
  },
  {
   "cell_type": "code",
   "execution_count": null,
   "id": "0GM55U9i-rfk",
   "metadata": {
    "colab": {
     "base_uri": "https://localhost:8080/"
    },
    "id": "0GM55U9i-rfk",
    "outputId": "5071b249-15f8-4def-8882-0fb5d763bea0"
   },
   "outputs": [],
   "source": [
    "#extracting all the words used in SPAM messages\n",
    "spamWords = list()\n",
    "\n",
    "for msg in x[x['result'] == 1]['processed'].tolist():\n",
    "  for word in msg.split():\n",
    "    spamWords.append(word)\n",
    "\n",
    "spamWords"
   ]
  },
  {
   "cell_type": "code",
   "execution_count": null,
   "id": "Us_mXRt5-ySp",
   "metadata": {
    "colab": {
     "base_uri": "https://localhost:8080/"
    },
    "id": "Us_mXRt5-ySp",
    "outputId": "672e4846-6246-4585-a7e7-2ff600e21de9"
   },
   "outputs": [],
   "source": [
    "#to count the frequency of the words, we will be using the Counter class to create a dictionary\n",
    "spamWordsDictionary = Counter(spamWords)\n",
    "\n",
    "#to extract the most common words\n",
    "spamWordsDictionary.most_common(40)"
   ]
  },
  {
   "cell_type": "code",
   "execution_count": 50,
   "id": "fDKbm3uH_Nph",
   "metadata": {
    "id": "fDKbm3uH_Nph"
   },
   "outputs": [],
   "source": [
    "#converting this dictionary to a dataframe\n",
    "mostCommonSPAM = pd.DataFrame(spamWordsDictionary.most_common(40))"
   ]
  },
  {
   "cell_type": "code",
   "execution_count": null,
   "id": "jBblxZIk_30g",
   "metadata": {
    "colab": {
     "base_uri": "https://localhost:8080/",
     "height": 591
    },
    "id": "jBblxZIk_30g",
    "outputId": "35d21f65-22df-42ee-e307-d6ca39b06c7e"
   },
   "outputs": [],
   "source": [
    "#plotting a bar plot of the mostCommonSPAM dataframe\n",
    "plt.figure(figsize=(12, 6))\n",
    "sns.barplot(data = mostCommonSPAM, x=0, y=1)\n",
    "plt.xticks(rotation='vertical')\n",
    "plt.show()"
   ]
  },
  {
   "cell_type": "markdown",
   "id": "hD1ryYyPDoUS",
   "metadata": {
    "id": "hD1ryYyPDoUS"
   },
   "source": [
    "## Model Building"
   ]
  },
  {
   "cell_type": "code",
   "execution_count": 97,
   "id": "GXzUN--UEznA",
   "metadata": {
    "id": "GXzUN--UEznA"
   },
   "outputs": [],
   "source": [
    "#converting the collection of text into a matrix of token counts\n",
    "cv = CountVectorizer()"
   ]
  },
  {
   "cell_type": "code",
   "execution_count": null,
   "id": "zdPlxYWXE-vm",
   "metadata": {
    "colab": {
     "base_uri": "https://localhost:8080/"
    },
    "id": "zdPlxYWXE-vm",
    "outputId": "72f25fec-fdb9-416e-e396-d42079ea16ea"
   },
   "outputs": [],
   "source": [
    "#transforming the data of processed column\n",
    "X = cv.fit_transform(x['processed']).toarray()\n",
    "\n",
    "#printing size of X\n",
    "X.shape"
   ]
  },
  {
   "cell_type": "code",
   "execution_count": null,
   "id": "UaAee-QhFDdf",
   "metadata": {
    "colab": {
     "base_uri": "https://localhost:8080/"
    },
    "id": "UaAee-QhFDdf",
    "outputId": "a345bad7-d8e7-42c6-d819-afc691eb5e5a"
   },
   "outputs": [],
   "source": [
    "#storing the values of the 'result' column\n",
    "y = x['result'].values\n",
    "y"
   ]
  },
  {
   "cell_type": "code",
   "execution_count": 100,
   "id": "2LZrgCI0FY8y",
   "metadata": {
    "id": "2LZrgCI0FY8y"
   },
   "outputs": [],
   "source": [
    "#splitting the training and testing dataset\n",
    "X_train, X_test, y_train, y_test = train_test_split(X, y, test_size = 0.2, random_state = 49)"
   ]
  },
  {
   "cell_type": "code",
   "execution_count": 101,
   "id": "0_3FTO2RHQuv",
   "metadata": {
    "id": "0_3FTO2RHQuv"
   },
   "outputs": [],
   "source": [
    "#creating the objects for the models\n",
    "gnb = GaussianNB()\n",
    "mnb = MultinomialNB()\n",
    "bnb = BernoulliNB()"
   ]
  },
  {
   "cell_type": "code",
   "execution_count": null,
   "id": "A3-_9K4ZH3nO",
   "metadata": {
    "colab": {
     "base_uri": "https://localhost:8080/"
    },
    "id": "A3-_9K4ZH3nO",
    "outputId": "d328caf1-48cc-404f-ac19-4ed4ab7da539"
   },
   "outputs": [],
   "source": [
    "#training the dataset for GaussianNB\n",
    "gnb.fit(X_train, y_train)\n",
    "y_pred1 = gnb.predict(X_test)\n",
    "print(accuracy_score(y_test, y_pred1))\n",
    "print(confusion_matrix(y_test, y_pred1))\n",
    "print(precision_score(y_test, y_pred1))"
   ]
  },
  {
   "cell_type": "code",
   "execution_count": null,
   "id": "nt9Ox6u6IDeC",
   "metadata": {
    "colab": {
     "base_uri": "https://localhost:8080/"
    },
    "id": "nt9Ox6u6IDeC",
    "outputId": "01abc5e4-75b1-4040-f49c-cc79ce0ec76b"
   },
   "outputs": [],
   "source": [
    "#training the dataset for MultinomialnNB\n",
    "mnb.fit(X_train, y_train)\n",
    "y_pred2 = mnb.predict(X_test)\n",
    "print(accuracy_score(y_test, y_pred2))\n",
    "print(confusion_matrix(y_test, y_pred2))\n",
    "print(precision_score(y_test, y_pred2))"
   ]
  },
  {
   "cell_type": "code",
   "execution_count": null,
   "id": "-Qiq7GWJJSLo",
   "metadata": {
    "colab": {
     "base_uri": "https://localhost:8080/"
    },
    "id": "-Qiq7GWJJSLo",
    "outputId": "49278f39-e22a-4559-dd8a-2263cba8c19c"
   },
   "outputs": [],
   "source": [
    "#training the dataset for BernoulliNB\n",
    "bnb.fit(X_train, y_train)\n",
    "y_pred3 = bnb.predict(X_test)\n",
    "print(accuracy_score(y_test, y_pred3))\n",
    "print(confusion_matrix(y_test, y_pred3))\n",
    "print(precision_score(y_test, y_pred3))"
   ]
  },
  {
   "cell_type": "code",
   "execution_count": 63,
   "id": "BVi02ol7JYYb",
   "metadata": {
    "id": "BVi02ol7JYYb"
   },
   "outputs": [],
   "source": [
    "#we have to focus mainly on 'precision' value\n",
    "#the max precision we got is 9.45 with 9.64 as accuracy"
   ]
  },
  {
   "cell_type": "code",
   "execution_count": 64,
   "id": "m3_35xosKV9Y",
   "metadata": {
    "id": "m3_35xosKV9Y"
   },
   "outputs": [],
   "source": [
    "#using 'TfidfVectorizer' for vectorization \n",
    "tf = TfidfVectorizer()\n",
    "\n",
    "#transforming the data of processed column\n",
    "X = tf.fit_transform(x['processed']).toarray()\n",
    "\n",
    "#storing the values of the 'result' column\n",
    "y = x['result'].values\n",
    "\n",
    "#splitting the training and testing dataset\n",
    "X_train, X_test, y_train, y_test = train_test_split(X, y, test_size = 0.2, random_state = 49)"
   ]
  },
  {
   "cell_type": "code",
   "execution_count": null,
   "id": "2S1dzhqsKjG0",
   "metadata": {
    "colab": {
     "base_uri": "https://localhost:8080/"
    },
    "id": "2S1dzhqsKjG0",
    "outputId": "2f4b100a-91da-4412-8d58-bf6d01c86c8f"
   },
   "outputs": [],
   "source": [
    "#training the dataset for GaussianNB\n",
    "gnb.fit(X_train, y_train)\n",
    "y_pred1 = gnb.predict(X_test)\n",
    "print(accuracy_score(y_test, y_pred1))\n",
    "print(confusion_matrix(y_test, y_pred1))\n",
    "print(precision_score(y_test, y_pred1))"
   ]
  },
  {
   "cell_type": "code",
   "execution_count": null,
   "id": "9DsDpIpNK0PX",
   "metadata": {
    "colab": {
     "base_uri": "https://localhost:8080/"
    },
    "id": "9DsDpIpNK0PX",
    "outputId": "168910f4-2071-49dc-b4a3-340d3065b88a"
   },
   "outputs": [],
   "source": [
    "#training the dataset for MultinomialnNB\n",
    "mnb.fit(X_train, y_train)\n",
    "y_pred2 = mnb.predict(X_test)\n",
    "print(accuracy_score(y_test, y_pred2))\n",
    "print(confusion_matrix(y_test, y_pred2))\n",
    "print(precision_score(y_test, y_pred2))"
   ]
  },
  {
   "cell_type": "code",
   "execution_count": null,
   "id": "0qkJKFHZK065",
   "metadata": {
    "colab": {
     "base_uri": "https://localhost:8080/"
    },
    "id": "0qkJKFHZK065",
    "outputId": "53381466-a601-4735-8730-ca52ad72e152"
   },
   "outputs": [],
   "source": [
    "#training the dataset for BernoulliNB\n",
    "bnb.fit(X_train, y_train)\n",
    "y_pred3 = bnb.predict(X_test)\n",
    "print(accuracy_score(y_test, y_pred3))\n",
    "print(confusion_matrix(y_test, y_pred3))\n",
    "print(precision_score(y_test, y_pred3))"
   ]
  },
  {
   "cell_type": "code",
   "execution_count": 103,
   "id": "75dd2f73",
   "metadata": {},
   "outputs": [],
   "source": [
    "#we will pickle 2 files\n",
    "import pickle\n",
    "pickle.dump(tf,open('vectorizer.pkl','wb'))\n",
    "pickle.dump(mnb,open('model.pkl','wb'))"
   ]
  }
 ],
 "metadata": {
  "colab": {
   "provenance": []
  },
  "kernelspec": {
   "display_name": "Python 3 (ipykernel)",
   "language": "python",
   "name": "python3"
  },
  "language_info": {
   "codemirror_mode": {
    "name": "ipython",
    "version": 3
   },
   "file_extension": ".py",
   "mimetype": "text/x-python",
   "name": "python",
   "nbconvert_exporter": "python",
   "pygments_lexer": "ipython3",
   "version": "3.12.3"
  }
 },
 "nbformat": 4,
 "nbformat_minor": 5
}
